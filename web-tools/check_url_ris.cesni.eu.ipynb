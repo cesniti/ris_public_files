{
 "cells": [
  {
   "cell_type": "code",
   "execution_count": 80,
   "metadata": {},
   "outputs": [],
   "source": [
    "from bs4 import BeautifulSoup\n",
    "import requests\n",
    "import urllib.request, urllib.error"
   ]
  },
  {
   "cell_type": "code",
   "execution_count": 81,
   "metadata": {},
   "outputs": [],
   "source": [
    "def getSoup(session, url):\n",
    "    result = session_requests.get(\n",
    "        url,\n",
    "        headers = dict(referer = url)\n",
    "    )\n",
    "    soup = BeautifulSoup(result.content, 'html.parser')\n",
    "\n",
    "    return soup\n",
    "\n",
    "def check_url(url):\n",
    "    try:\n",
    "        conn = urllib.request.urlopen(url)\n",
    "    except urllib.error.HTTPError as e:\n",
    "        # Return code error (e.g. 404, 501, ...)\n",
    "        # ...\n",
    "        return 'HTTPError: {}'.format(e.code)\n",
    "    except urllib.error.URLError as e:\n",
    "        # Not an HTTP-specific error (e.g. connection refused)\n",
    "        # ...\n",
    "        return 'URLError: {}'.format(e.reason)\n",
    "    else:\n",
    "        # 200\n",
    "        return 'good'"
   ]
  },
  {
   "cell_type": "code",
   "execution_count": 82,
   "metadata": {},
   "outputs": [],
   "source": [
    "urls = ['https://ris.cesni.eu/index.html',\n",
    "        'https://ris.cesni.eu/20-en.html',\n",
    "        'https://ris.cesni.eu/30-en.html',\n",
    "        'https://ris.cesni.eu/31-en.html',\n",
    "        'https://ris.cesni.eu/32-en.html',\n",
    "        'https://ris.cesni.eu/33-en.html',\n",
    "        'https://ris.cesni.eu/34-en.html',\n",
    "        'https://ris.cesni.eu/312-en.html',\n",
    "        'https://ris.cesni.eu/322-en.html',\n",
    "        'https://ris.cesni.eu/332-en.html',\n",
    "        'https://ris.cesni.eu/342-en.html',\n",
    "        'https://ris.cesni.eu/40-en.html',\n",
    "        'https://ris.cesni.eu/50-en.html',\n",
    "        'https://ris.cesni.eu/80-en.html']"
   ]
  },
  {
   "cell_type": "code",
   "execution_count": 83,
   "metadata": {},
   "outputs": [
    {
     "name": "stdout",
     "output_type": "stream",
     "text": [
      "URLs in the website are ok\n"
     ]
    }
   ],
   "source": [
    "session_requests = requests.session()\n",
    "total_check = True\n",
    "for url in urls:\n",
    "    soup = getSoup('',url)\n",
    "    \n",
    "    for a in soup.find_all('a', href=True):\n",
    "        #print (\"Found the URL:{0}\".format(a['href']))\n",
    "        #print (a['href'][0:4])\n",
    "\n",
    "        if (a['href'][0:4] == 'http'):\n",
    "            url = a['href']\n",
    "            checked_url = check_url(url)\n",
    "        else: \n",
    "            #print ('https://ris.cesni.eu/'+ a['href'])\n",
    "            url = 'https://ris.cesni.eu/' + a['href']\n",
    "            checked_url = check_url(url)\n",
    "\n",
    "        if (checked_url!='good'):\n",
    "            total_check = False\n",
    "            print(url)\n",
    "if (total_check == True):\n",
    "    print('URLs in the website are ok')"
   ]
  },
  {
   "cell_type": "code",
   "execution_count": null,
   "metadata": {},
   "outputs": [],
   "source": []
  }
 ],
 "metadata": {
  "kernelspec": {
   "display_name": "Python 3",
   "language": "python",
   "name": "python3"
  },
  "language_info": {
   "codemirror_mode": {
    "name": "ipython",
    "version": 3
   },
   "file_extension": ".py",
   "mimetype": "text/x-python",
   "name": "python",
   "nbconvert_exporter": "python",
   "pygments_lexer": "ipython3",
   "version": "3.7.4"
  }
 },
 "nbformat": 4,
 "nbformat_minor": 2
}
